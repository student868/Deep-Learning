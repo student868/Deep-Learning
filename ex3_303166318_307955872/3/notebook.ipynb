{
 "cells": [
  {
   "cell_type": "markdown",
   "metadata": {
    "id": "lemvfnM-hdOy",
    "pycharm": {
     "name": "#%% md\n"
    }
   },
   "source": [
    "# Load imports"
   ]
  },
  {
   "cell_type": "code",
   "execution_count": null,
   "outputs": [],
   "source": [
    "!git clone -l -s \"https://github.com/student868/Deep-Learning.git\"\n",
    "%cd \"Deep-Learning/ex3_303166318_307955872/3\"\n",
    "from main import *"
   ],
   "metadata": {
    "collapsed": false,
    "pycharm": {
     "name": "#%%\n"
    }
   }
  },
  {
   "cell_type": "markdown",
   "source": [
    "# Run MNIST"
   ],
   "metadata": {
    "collapsed": false,
    "pycharm": {
     "name": "#%% md\n"
    }
   }
  },
  {
   "cell_type": "markdown",
   "source": [
    "## Train"
   ],
   "metadata": {
    "collapsed": false,
    "pycharm": {
     "name": "#%% md\n"
    }
   }
  },
  {
   "cell_type": "code",
   "execution_count": null,
   "outputs": [],
   "source": [
    "use_saved_weights = False\n",
    "train_dataset, test_dataset = load_data(datasets.MNIST)\n",
    "model_nn = update_nn(train_dataset, test_dataset, use_saved_weights=use_saved_weights)\n",
    "for labeled_samples in [100, 600, 1000, 3000]:\n",
    "    model_svm = update_svm(train_dataset, labeled_samples, model_nn, use_saved_weights=use_saved_weights)\n",
    "    evaluate(test_dataset, model_nn, model_svm)"
   ],
   "metadata": {
    "collapsed": false,
    "pycharm": {
     "name": "#%%\n"
    }
   }
  },
  {
   "cell_type": "markdown",
   "source": [
    "## Evaluate saved model"
   ],
   "metadata": {
    "collapsed": false,
    "pycharm": {
     "name": "#%% md\n"
    }
   }
  },
  {
   "cell_type": "code",
   "execution_count": null,
   "outputs": [],
   "source": [
    "use_saved_weights = True\n",
    "train_dataset, test_dataset = load_data(datasets.MNIST)\n",
    "model_nn = update_nn(train_dataset, test_dataset, use_saved_weights=use_saved_weights)\n",
    "for labeled_samples in [100, 600, 1000, 3000]:\n",
    "    model_svm = update_svm(train_dataset, labeled_samples, model_nn, use_saved_weights=use_saved_weights)\n",
    "    evaluate(test_dataset, model_nn, model_svm)"
   ],
   "metadata": {
    "collapsed": false,
    "pycharm": {
     "name": "#%%\n"
    }
   }
  },
  {
   "cell_type": "markdown",
   "source": [
    "# Run Fashion Mnist"
   ],
   "metadata": {
    "collapsed": false,
    "pycharm": {
     "name": "#%% md\n"
    }
   }
  },
  {
   "cell_type": "markdown",
   "source": [
    "## Train"
   ],
   "metadata": {
    "collapsed": false,
    "pycharm": {
     "name": "#%% md\n"
    }
   }
  },
  {
   "cell_type": "code",
   "execution_count": null,
   "outputs": [],
   "source": [
    "use_saved_weights = False\n",
    "train_dataset, test_dataset = load_data(datasets.FashionMNIST)\n",
    "model_nn = update_nn(train_dataset, test_dataset, use_saved_weights=use_saved_weights)\n",
    "for labeled_samples in [100, 600, 1000, 3000]:\n",
    "    model_svm = update_svm(train_dataset, labeled_samples, model_nn, use_saved_weights=use_saved_weights)\n",
    "    evaluate(test_dataset, model_nn, model_svm)"
   ],
   "metadata": {
    "collapsed": false,
    "pycharm": {
     "name": "#%%\n"
    }
   }
  },
  {
   "cell_type": "markdown",
   "source": [
    "## Evaluate saved model"
   ],
   "metadata": {
    "collapsed": false,
    "pycharm": {
     "name": "#%% md\n"
    }
   }
  },
  {
   "cell_type": "code",
   "execution_count": null,
   "outputs": [],
   "source": [
    "use_saved_weights = True\n",
    "train_dataset, test_dataset = load_data(datasets.FashionMNIST)\n",
    "model_nn = update_nn(train_dataset, test_dataset, use_saved_weights=use_saved_weights)\n",
    "for labeled_samples in [100, 600, 1000, 3000]:\n",
    "    model_svm = update_svm(train_dataset, labeled_samples, model_nn, use_saved_weights=use_saved_weights)\n",
    "    evaluate(test_dataset, model_nn, model_svm)"
   ],
   "metadata": {
    "collapsed": false,
    "pycharm": {
     "name": "#%%\n"
    }
   }
  }
 ],
 "metadata": {
  "colab": {
   "provenance": []
  },
  "kernelspec": {
   "display_name": "Python 3",
   "name": "python3"
  },
  "language_info": {
   "name": "python"
  }
 },
 "nbformat": 4,
 "nbformat_minor": 0
}
