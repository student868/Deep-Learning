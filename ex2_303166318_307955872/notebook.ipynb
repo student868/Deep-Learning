{
 "cells": [
  {
   "cell_type": "markdown",
   "metadata": {
    "id": "lemvfnM-hdOy",
    "pycharm": {
     "name": "#%% md\n"
    }
   },
   "source": [
    "# Load the data"
   ]
  },
  {
   "cell_type": "code",
   "execution_count": null,
   "metadata": {
    "id": "kQ34nbzTM_Ku",
    "pycharm": {
     "name": "#%%\n"
    }
   },
   "outputs": [],
   "source": [
    "!git clone -l -s https://github.com/student868/Deep-Learning.git\n",
    "%cd Deep-Learning/ex1_303166318_307955872\n",
    "from main import *\n",
    "\n",
    "train_dataloader, test_dataloader = load_data()\n",
    "print('\\n\\nData Loaded!')"
   ]
  },
  {
   "cell_type": "markdown",
   "metadata": {
    "id": "JlBNS2O5OMAp",
    "pycharm": {
     "name": "#%% md\n"
    }
   },
   "source": [
    "# Original Lenet5\n"
   ]
  },
  {
   "cell_type": "code",
   "execution_count": null,
   "metadata": {
    "cellView": "form",
    "id": "KEndUeEvPsh3",
    "pycharm": {
     "name": "#%%\n"
    }
   },
   "outputs": [],
   "source": [
    "#@title Train\n",
    "train_original(train_dataloader, test_dataloader, use_saved_weights=False)"
   ]
  },
  {
   "cell_type": "code",
   "execution_count": null,
   "metadata": {
    "cellView": "form",
    "id": "u7qnNdIdP9FU",
    "pycharm": {
     "name": "#%%\n"
    }
   },
   "outputs": [],
   "source": [
    "#@title Evaluate saved model\n",
    "train_original(train_dataloader, test_dataloader, use_saved_weights=True)"
   ]
  },
  {
   "cell_type": "markdown",
   "metadata": {
    "id": "Abv1_FC7QQq1",
    "pycharm": {
     "name": "#%% md\n"
    }
   },
   "source": [
    "# Lenet5 with dropout\n"
   ]
  },
  {
   "cell_type": "code",
   "execution_count": null,
   "metadata": {
    "id": "JGPzKTc_QZki",
    "pycharm": {
     "name": "#%%\n"
    }
   },
   "outputs": [],
   "source": [
    "#@title Train\n",
    "train_dropout(train_dataloader, test_dataloader, use_saved_weights=False)"
   ]
  },
  {
   "cell_type": "code",
   "execution_count": null,
   "metadata": {
    "id": "u2X5tkt4QeHe",
    "pycharm": {
     "name": "#%%\n"
    }
   },
   "outputs": [],
   "source": [
    "#@title Evaluate saved model\n",
    "train_dropout(train_dataloader, test_dataloader, use_saved_weights=True)"
   ]
  },
  {
   "cell_type": "markdown",
   "metadata": {
    "id": "JE0Ui9vIRoGL",
    "pycharm": {
     "name": "#%% md\n"
    }
   },
   "source": [
    "# Lenet5 with weight decay"
   ]
  },
  {
   "cell_type": "code",
   "execution_count": null,
   "metadata": {
    "id": "_5k9kR3ZRuNf",
    "pycharm": {
     "name": "#%%\n"
    }
   },
   "outputs": [],
   "source": [
    "#@title Train\n",
    "train_weight_decay(train_dataloader, test_dataloader, use_saved_weights=False)"
   ]
  },
  {
   "cell_type": "code",
   "execution_count": null,
   "metadata": {
    "cellView": "form",
    "id": "xTcLDp3aRw0H",
    "pycharm": {
     "name": "#%%\n"
    }
   },
   "outputs": [],
   "source": [
    "#@title Evaluate saved model\n",
    "train_weight_decay(train_dataloader, test_dataloader, use_saved_weights=True)"
   ]
  },
  {
   "cell_type": "markdown",
   "metadata": {
    "id": "Zaz9XiaRR2GK",
    "pycharm": {
     "name": "#%% md\n"
    }
   },
   "source": [
    "# Lenet5 with batch normalization"
   ]
  },
  {
   "cell_type": "code",
   "execution_count": null,
   "metadata": {
    "cellView": "form",
    "id": "qQFB5qB_R9oW",
    "pycharm": {
     "name": "#%%\n"
    }
   },
   "outputs": [],
   "source": [
    "#@title Train\n",
    "train_batch_normalization(train_dataloader, test_dataloader, use_saved_weights=False)"
   ]
  },
  {
   "cell_type": "code",
   "execution_count": null,
   "metadata": {
    "cellView": "form",
    "id": "OuBI6AgTSANl",
    "pycharm": {
     "name": "#%%\n"
    }
   },
   "outputs": [],
   "source": [
    "#@title Evaluate saved model\n",
    "train_batch_normalization(train_dataloader, test_dataloader, use_saved_weights=True)"
   ]
  }
 ],
 "metadata": {
  "colab": {
   "provenance": []
  },
  "kernelspec": {
   "display_name": "Python 3",
   "name": "python3"
  },
  "language_info": {
   "name": "python"
  }
 },
 "nbformat": 4,
 "nbformat_minor": 0
}