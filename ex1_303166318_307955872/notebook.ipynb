{
 "cells": [
  {
   "cell_type": "markdown",
   "source": [
    "# Load the data"
   ],
   "metadata": {
    "id": "lemvfnM-hdOy",
    "pycharm": {
     "name": "#%% md\n"
    }
   }
  },
  {
   "cell_type": "code",
   "source": [
    "%cd '/content/drive/MyDrive/Colab Notebooks/DL/ex1_303166318_307955872/'\n",
    "from main import *\n",
    "  \n",
    "train_dataloader, test_dataloader = load_data()"
   ],
   "metadata": {
    "id": "kQ34nbzTM_Ku",
    "colab": {
     "base_uri": "https://localhost:8080/"
    },
    "executionInfo": {
     "status": "ok",
     "timestamp": 1681473734401,
     "user_tz": -180,
     "elapsed": 9171,
     "user": {
      "displayName": "Ofir Yoffe",
      "userId": "05239407517142921891"
     }
    },
    "outputId": "3e49c862-20a9-4515-aa2b-bc48bc8d20da",
    "pycharm": {
     "name": "#%%\n"
    }
   },
   "execution_count": 2,
   "outputs": [
    {
     "output_type": "stream",
     "name": "stdout",
     "text": [
      "/content/drive/MyDrive/Colab Notebooks/DL/ex1_303166318_307955872\n"
     ]
    }
   ]
  },
  {
   "cell_type": "markdown",
   "source": [
    "# Original Lenet5\n"
   ],
   "metadata": {
    "id": "JlBNS2O5OMAp",
    "pycharm": {
     "name": "#%% md\n"
    }
   }
  },
  {
   "cell_type": "code",
   "source": [
    "#@title Train\n",
    "train_original(train_dataloader, test_dataloader, use_saved_weights=False)"
   ],
   "metadata": {
    "id": "KEndUeEvPsh3",
    "cellView": "form",
    "pycharm": {
     "name": "#%%\n"
    }
   },
   "execution_count": null,
   "outputs": []
  },
  {
   "cell_type": "code",
   "source": [
    "#@title Evaluate saved model\n",
    "train_original(train_dataloader, test_dataloader, use_saved_weights=True)"
   ],
   "metadata": {
    "id": "u7qnNdIdP9FU",
    "cellView": "form",
    "colab": {
     "base_uri": "https://localhost:8080/"
    },
    "executionInfo": {
     "status": "ok",
     "timestamp": 1681473758799,
     "user_tz": -180,
     "elapsed": 19717,
     "user": {
      "displayName": "Ofir Yoffe",
      "userId": "05239407517142921891"
     }
    },
    "outputId": "223e8bf4-19bb-474a-f911-4bdadfd5009f",
    "pycharm": {
     "name": "#%%\n"
    }
   },
   "execution_count": 3,
   "outputs": [
    {
     "output_type": "stream",
     "name": "stdout",
     "text": [
      " -- Lenet5 Original -- \n",
      "Loading old weights...\n",
      "Loaded Model - Train Accuracy: 93.8%, Test Accuracy: 89.1%\n",
      "\n"
     ]
    }
   ]
  },
  {
   "cell_type": "markdown",
   "source": [
    "# Lenet5 with dropout\n"
   ],
   "metadata": {
    "id": "Abv1_FC7QQq1",
    "pycharm": {
     "name": "#%% md\n"
    }
   }
  },
  {
   "cell_type": "code",
   "source": [
    "#@title Train\n",
    "train_dropout(train_dataloader, test_dataloader, use_saved_weights=False)"
   ],
   "metadata": {
    "id": "JGPzKTc_QZki",
    "cellView": "form",
    "pycharm": {
     "name": "#%%\n"
    }
   },
   "execution_count": null,
   "outputs": []
  },
  {
   "cell_type": "code",
   "source": [
    "#@title Evaluate saved model\n",
    "train_dropout(train_dataloader, test_dataloader, use_saved_weights=True)"
   ],
   "metadata": {
    "id": "u2X5tkt4QeHe",
    "cellView": "form",
    "colab": {
     "base_uri": "https://localhost:8080/"
    },
    "executionInfo": {
     "status": "ok",
     "timestamp": 1681473780114,
     "user_tz": -180,
     "elapsed": 18167,
     "user": {
      "displayName": "Ofir Yoffe",
      "userId": "05239407517142921891"
     }
    },
    "outputId": "8804b175-a94a-4f8d-9591-e9d4a0b46dd6",
    "pycharm": {
     "name": "#%%\n"
    }
   },
   "execution_count": 4,
   "outputs": [
    {
     "output_type": "stream",
     "name": "stdout",
     "text": [
      " -- Lenet5 Dropout -- \n",
      "Loading old weights...\n",
      "Loaded Model - Train Accuracy: 94.4%, Test Accuracy: 90.9%\n",
      "\n"
     ]
    }
   ]
  },
  {
   "cell_type": "markdown",
   "source": [
    "# Lenet5 with weight decay"
   ],
   "metadata": {
    "id": "JE0Ui9vIRoGL",
    "pycharm": {
     "name": "#%% md\n"
    }
   }
  },
  {
   "cell_type": "code",
   "source": [
    "#@title Train\n",
    "train_weight_decay(train_dataloader, test_dataloader, use_saved_weights=False)"
   ],
   "metadata": {
    "id": "_5k9kR3ZRuNf",
    "cellView": "form",
    "pycharm": {
     "name": "#%%\n"
    }
   },
   "execution_count": null,
   "outputs": []
  },
  {
   "cell_type": "code",
   "source": [
    "#@title Evaluate saved model\n",
    "train_weight_decay(train_dataloader, test_dataloader, use_saved_weights=True)"
   ],
   "metadata": {
    "id": "xTcLDp3aRw0H",
    "cellView": "form",
    "colab": {
     "base_uri": "https://localhost:8080/"
    },
    "executionInfo": {
     "status": "ok",
     "timestamp": 1681473798278,
     "user_tz": -180,
     "elapsed": 18167,
     "user": {
      "displayName": "Ofir Yoffe",
      "userId": "05239407517142921891"
     }
    },
    "outputId": "8d9a1005-b10c-4215-e6e2-a9d7f48a2ef4",
    "pycharm": {
     "name": "#%%\n"
    }
   },
   "execution_count": 5,
   "outputs": [
    {
     "output_type": "stream",
     "name": "stdout",
     "text": [
      " -- Lenet5 Weight Decay -- \n",
      "Loading old weights...\n",
      "Loaded Model - Train Accuracy: 94.2%, Test Accuracy: 89.8%\n",
      "\n"
     ]
    }
   ]
  },
  {
   "cell_type": "markdown",
   "source": [
    "# Lenet5 with batch normalization"
   ],
   "metadata": {
    "id": "Zaz9XiaRR2GK",
    "pycharm": {
     "name": "#%% md\n"
    }
   }
  },
  {
   "cell_type": "code",
   "source": [
    "#@title Train\n",
    "train_batch_normalization(train_dataloader, test_dataloader, use_saved_weights=False)"
   ],
   "metadata": {
    "id": "qQFB5qB_R9oW",
    "cellView": "form",
    "pycharm": {
     "name": "#%%\n"
    }
   },
   "execution_count": null,
   "outputs": []
  },
  {
   "cell_type": "code",
   "source": [
    "#@title Evaluate saved model\n",
    "train_batch_normalization(train_dataloader, test_dataloader, use_saved_weights=True)"
   ],
   "metadata": {
    "id": "OuBI6AgTSANl",
    "cellView": "form",
    "colab": {
     "base_uri": "https://localhost:8080/"
    },
    "outputId": "76c1a757-7b93-4310-85b3-8a234a7f1184",
    "pycharm": {
     "name": "#%%\n"
    }
   },
   "execution_count": null,
   "outputs": [
    {
     "output_type": "stream",
     "name": "stdout",
     "text": [
      " -- Lenet5 Batch Normalization -- \n",
      "Loading old weights...\n"
     ]
    }
   ]
  }
 ],
 "metadata": {
  "colab": {
   "provenance": [],
   "toc_visible": true,
   "mount_file_id": "1zezoM1uXV_ZsKMNMmRGhOWdZ-TxRnt_r",
   "authorship_tag": "ABX9TyP/oSvUFJqo9aaggkrwY1yB"
  },
  "kernelspec": {
   "display_name": "Python 3",
   "name": "python3"
  },
  "language_info": {
   "name": "python"
  }
 },
 "nbformat": 4,
 "nbformat_minor": 0
}